{
 "cells": [
  {
   "cell_type": "code",
   "execution_count": 12,
   "metadata": {
    "collapsed": true
   },
   "outputs": [],
   "source": [
    "%matplotlib inline\n",
    "from matplotlib.pyplot import *\n",
    "from numpy import *\n",
    "def nextpow2(x):\n",
    "    return int(pow(2,ceil(log2(x))))\n",
    "F_samp = 250\n",
    "t_max = .2\n",
    "t = np.matrix(np.linspace(0, t_max, num=F_samp*t_max))\n",
    "\n",
    "\n",
    "A = np.matrix(\"[1.0 1.4]\")\n",
    "W = np.matrix(\"[45 106]\")\n",
    "\n",
    "sig = A * sin(2*pi*W.T*t) + matrix(random.normal(size=t.shape))\n",
    "plot(np.squeeze(t.A),np.squeeze(sig.A))"
   ]
  },
  {
   "cell_type": "code",
   "execution_count": null,
   "metadata": {
    "collapsed": true
   },
   "outputs": [],
   "source": []
  }
 ],
 "metadata": {
  "kernelspec": {
   "display_name": "Python 3",
   "language": "python",
   "name": "python3"
  },
  "language_info": {
   "codemirror_mode": {
    "name": "ipython",
    "version": 3
   },
   "file_extension": ".py",
   "mimetype": "text/x-python",
   "name": "python",
   "nbconvert_exporter": "python",
   "pygments_lexer": "ipython3",
   "version": "3.5.1"
  }
 },
 "nbformat": 4,
 "nbformat_minor": 0
}
